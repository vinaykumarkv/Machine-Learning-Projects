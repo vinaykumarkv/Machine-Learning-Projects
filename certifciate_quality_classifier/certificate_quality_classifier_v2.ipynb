{
 "cells": [
  {
   "attachments": {},
   "cell_type": "markdown",
   "id": "5c845175-4b64-4985-9590-cb1609cea85b",
   "metadata": {},
   "source": [
    "***certificate_quality_classifier_v2*** - *exploring math behind python functions and using them directly to understand foundational algorithms*\n",
    "This time I went into foundational concepts of Logistic regression exploring actual logic behind model.\n",
    "so before we explore Logistic regression, lets see what is linear regression.\n",
    "\n",
    "**Linear Regression** : a simple relation between X and Y, where X is Feature and Y is outcome.\n",
    "Formula is Y= m * X + c\n",
    "whrere, m = (change in Y)/(change in X), weight\n",
    "and c is bias or Intercept.\n",
    "\n",
    "so Goal is to find best **m** and **c** based on test data so that we can use it to predict unkown Y later for new dataset.\n",
    "\n",
    "also we need to minimize the difference between **actual value** and **predicted value** -> this is called training or model fitting\n",
    "\n",
    "this is called Mean Squared Error (MSE) which is = (1/n) * sum of squares of difference between actual and predicted values.\n",
    "\n",
    "\n",
    "**To find m and c:**\n",
    "\n",
    "we can use below methods,\n",
    "1. Analytical Method (closed form solution):first we will try this with sample then we will try gradient descent.\n",
    "direct formula:\n",
    "m=(n{sum[x*y]}-{sum[x]}*{sum[y]})/(n{sum[x**2]}-{sum[x]}**2)\n",
    "c=({sum[y]}-m{sum[x]})/n\n",
    "\n",
    "2. Gradient Descent (iterative method): We will try using this for our case since we have multiple features.\n",
    "This is good if if we have multiple features x1, x2, x3, ... xn\n",
    "method uses random values of m and c trying to reduce mean squared error.\n",
    "\n",
    "Once we find optimal m and c, we can apply it for predictions.\n",
    "\n"
   ]
  },
  {
   "cell_type": "code",
   "execution_count": 26,
   "id": "602f4d9c-879e-4f8f-afdc-9885fb0c558c",
   "metadata": {
    "scrolled": true
   },
   "outputs": [
    {
     "name": "stdout",
     "output_type": "stream",
     "text": [
      "Optimal Slope (m): 0.004098659872794093\n",
      "Optimal Intercept (c): -0.29414039052487717\n"
     ]
    }
   ],
   "source": [
    "import pandas as pd\n",
    "import numpy as np\n",
    "#lets now generate random test data.\n",
    "np.random.seed(42)\n",
    "data1 = pd.DataFrame({\n",
    "    'cert_id': range(1000),\n",
    "    'days_to_expiry': np.random.randint(0, 365, 1000),\n",
    "    'purity_percent': np.random.uniform(50, 100, 1000),\n",
    "    'vendor_score': np.random.uniform(1, 5, 1000)\n",
    "})\n",
    "\n",
    "#build a logic for only one feature initially to explore analystical method\n",
    "conditions = [\n",
    "    (data1['days_to_expiry'] < 200),  # Reject (0)\n",
    "    (data1['days_to_expiry'] >= 200)  # Approve (1)\n",
    "]\n",
    "\n",
    "#define label, lets keep it as 0 and 1 for calculations\n",
    "labels = [0, 1]\n",
    "\n",
    "#apply condition and label on data\n",
    "data1['actual_decision'] = np.select(conditions, labels)\n",
    "\n",
    "#lets first build y=mx+c and define x and y \n",
    "\n",
    "X = data1['days_to_expiry']\n",
    "y = data1['actual_decision']\n",
    "\n",
    "#total number of features\n",
    "n=data1.shape[0]\n",
    "\n",
    "#lets use direct method to find optimal values for m and c with reduced MSE\n",
    "#m=(n*{sum[X*y]}-{sum[X]}*{sum[y]})/(n*{sum[X**2]}-{sum[X]}**2)\n",
    "#c=({sum[y]}-m*{sum[X]})/n\n",
    "#Preprocess data to apply above formulas\n",
    "\n",
    "sum_x = X.sum()\n",
    "sum_y = y.sum()\n",
    "sum_xy = (X * y).sum()\n",
    "sum_x2 = (X**2).sum()\n",
    "denominator = (n * sum_x2) - (sum_x**2)\n",
    "numerator_m = (n * sum_xy) - (sum_x * sum_y)\n",
    "\n",
    "#calculate m and c\n",
    "m = numerator_m / denominator\n",
    "c = (sum_y - m * sum_x) / n\n",
    "\n",
    "#show optimal m and c\n",
    "print(f\"Optimal Slope (m): {m}\")\n",
    "print(f\"Optimal Intercept (c): {c}\")\n"
   ]
  },
  {
   "cell_type": "markdown",
   "id": "6ccdf305-9f15-4a01-b90f-91d7fcfbcfd9",
   "metadata": {},
   "source": [
    "Now we have found m and c using analytcial method which has least MSE\n",
    "now lets use this to predict and measure its accuracy against actual result. copied above code with updated seed so that this dataset would be different."
   ]
  },
  {
   "cell_type": "code",
   "execution_count": 27,
   "id": "11bbbf11-fbef-4598-99b9-424c578cdcb5",
   "metadata": {},
   "outputs": [],
   "source": [
    "#lets now generate random test data again. I should have defined function to call but since it was easy to copy I have copied will finetune the code later versions\n",
    "np.random.seed(62)\n",
    "data2 = pd.DataFrame({\n",
    "    'cert_id': range(1000),\n",
    "    'days_to_expiry': np.random.randint(0, 365, 1000),\n",
    "    'purity_percent': np.random.uniform(50, 100, 1000),\n",
    "    'vendor_score': np.random.uniform(1, 5, 1000)\n",
    "})\n",
    "\n",
    "#build a logic for only one feature initially to explore analystical method\n",
    "conditions = [\n",
    "    (data2['days_to_expiry'] < 200),  # Reject (0)\n",
    "    (data2['days_to_expiry'] >= 200)  # Approve (1)\n",
    "]\n",
    "\n",
    "#define label, lets keep it as 0 and 1 for calculations\n",
    "labels = [0, 1]\n",
    "\n",
    "#apply condition and label on data\n",
    "data2['actual_decision'] = np.select(conditions, labels)\n",
    "\n",
    "#lets first build y=mx+c and define x and y \n",
    "\n",
    "X = data2['days_to_expiry']\n",
    "y= (X*m)+c\n",
    "data2['predicted_decision']=y\n",
    "Y_actual=data2['actual_decision']\n",
    "\n",
    "\n"
   ]
  },
  {
   "cell_type": "code",
   "execution_count": 28,
   "id": "327ec5f2-9427-4867-8710-312629610e3d",
   "metadata": {},
   "outputs": [
    {
     "data": {
      "text/plain": [
       "[<matplotlib.lines.Line2D at 0x1cee8a1c410>]"
      ]
     },
     "execution_count": 28,
     "metadata": {},
     "output_type": "execute_result"
    },
    {
     "data": {
      "image/png": "[encoded data removed]",
      "text/plain": [
       "<Figure size 640x480 with 1 Axes>"
      ]
     },
     "metadata": {},
     "output_type": "display_data"
    }
   ],
   "source": [
    "#lets plot values against predicted and actual outcome, need to import matplotlib now\n",
    "import matplotlib.pyplot as plt\n",
    "\n",
    "fig, ax = plt.subplots()\n",
    "ax.plot(X,y,color='b')\n",
    "ax2 = ax.twin()\n",
    "ax2.plot(X,Y_actual,color='r')\n",
    "\n",
    "#now we have found linear regression based on single feature. \n",
    "#now lets use it for logistic regression\n"
   ]
  },
  {
   "cell_type": "markdown",
   "id": "efa27689-75fd-49b1-b736-557d4be4d2e0",
   "metadata": {},
   "source": [
    "with above found linear regression, we will try using sigmoid function to get logistic regression now using below,\n",
    "\n",
    "so that we can just classify 0 or 1 based on linear regression values.\n",
    "\n",
    "if you consider z as linear regression outcome, then logistic regression is,\n",
    "\n",
    "= 1/(1-e**[-z])\n",
    "\n",
    "e is special constant similar to pi.\n",
    "e= 2.718...\n",
    "\n",
    "which gives us probablity range between 0 to 1.\n",
    "\n",
    "so now to optimize our binary classification we can try finding optimal threshold to approve or reject logic. (example if 0.5 is threshold then all values under 0.5 will be false and all values above 0.5 will be true, so usually 0.5 wont be thresold it would change based on our features so we need to find optimal threshold which we will do in next step."
   ]
  },
  {
   "cell_type": "code",
   "execution_count": 29,
   "id": "4c0fb86c-88b3-4c88-b7ad-61e6d9686b20",
   "metadata": {},
   "outputs": [
    {
     "name": "stdout",
     "output_type": "stream",
     "text": [
      "0     0.445131\n",
      "1     0.451213\n",
      "2     0.509462\n",
      "3     0.544186\n",
      "4     0.690018\n",
      "        ...   \n",
      "95    0.753209\n",
      "96    0.548249\n",
      "97    0.525834\n",
      "98    0.539098\n",
      "99    0.579485\n",
      "Name: days_to_expiry, Length: 100, dtype: float64\n"
     ]
    },
    {
     "data": {
      "image/png": "[encoded data removed]",
      "text/plain": [
       "<Figure size 640x480 with 1 Axes>"
      ]
     },
     "metadata": {},
     "output_type": "display_data"
    }
   ],
   "source": [
    "#lets treat y output from linear regression-> z and try to keep in range of 0 to 1\n",
    "\n",
    "#preprocessing data\n",
    "e=2.718281828459045235360287471352\n",
    "z=y\n",
    "neg_z=-1*z\n",
    "e_pow_neg_z = e**neg_z\n",
    "one_plus_e_pow_neg_z = 1+e_pow_neg_z\n",
    "\n",
    "#as logistic regression is sigmoid function of linear regression\n",
    "logistic_regression = 1/one_plus_e_pow_neg_z\n",
    "fig, ax2 = plt.subplots()\n",
    "ax2.plot(X,logistic_regression,color='r')\n",
    "print(logistic_regression.head(100))\n"
   ]
  },
  {
   "cell_type": "markdown",
   "id": "8bc05af3-8d94-41bc-a2e4-7b0101d38f72",
   "metadata": {},
   "source": [
    "Now since we have found logistic regression, now we need to find a specific threshold which can help us to classify/predict the approve or reject outcome. so we will try calculating wit simple math first what kind of accuracy we can achieve \n",
    "and then we will try Gradient Descent to get find optimal m and c (to minimize MSE)"
   ]
  },
  {
   "cell_type": "code",
   "execution_count": 30,
   "id": "c43979f8-a02f-40c4-996d-74df6ecde227",
   "metadata": {},
   "outputs": [
    {
     "name": "stdout",
     "output_type": "stream",
     "text": [
      "[1 1 1 1 1]\n",
      "[1 1 1 1 1]\n",
      "[1 1 1 1 1]\n",
      "[1 1 1 1 1]\n",
      "[1 1 1 1 1]\n",
      "[0 0 1 1 1]\n",
      "[0 0 0 0 1]\n",
      "[0 0 0 0 0]\n",
      "[0 0 0 0 0]\n",
      "[0 0 0 0 0]\n",
      "highest accuracy is :0.922\n",
      "best threshold through simple math is : 0.6000000000000001\n"
     ]
    }
   ],
   "source": [
    "\n",
    "#lets initialize a variable to store highest accuracy\n",
    "highest_accuracy = 0.0\n",
    "final_threshold = 0.0\n",
    "#lets try for loop with steps of 0.1 till 0.9 and print accuracies\n",
    "for i in np.arange(0.0, 1.0, 0.1):\n",
    "    conditions = [(logistic_regression < i),  # Reject (0)\n",
    "                  (logistic_regression >= i)  # Approve (1)\n",
    "                 ]\n",
    "    #define label, lets keep it as 0 and 1 for calculations\n",
    "    labels = [0, 1]\n",
    "    #apply condition and label on data\n",
    "    temp_df = np.select(conditions, labels)\n",
    "    print(temp_df[:5])\n",
    "    accuracy_found = (temp_df == Y_actual).mean()\n",
    "    if accuracy_found > highest_accuracy:\n",
    "        highest_accuracy = accuracy_found\n",
    "        final_threshold = i\n",
    "print(f\"highest accuracy is :{highest_accuracy}\")\n",
    "print(f\"best threshold through simple math is : {final_threshold}\")"
   ]
  },
  {
   "cell_type": "markdown",
   "id": "a4285e46-ee2d-429e-9214-387a87f1bd06",
   "metadata": {},
   "source": [
    "Similarly, Now lets try gradient decent to find optimal thresold\n",
    "cost function is our first step. J(theta0, theta1) = (1/2m)*(sum i=1->m ({h[x(ith)]}-{yith}))^2"
   ]
  },
  {
   "cell_type": "code",
   "execution_count": 31,
   "id": "af333f3e-9a53-426d-bc3f-605c2edf9585",
   "metadata": {},
   "outputs": [
    {
     "name": "stdout",
     "output_type": "stream",
     "text": [
      "The Log Loss Cost (J) is: 0.5875\n"
     ]
    }
   ],
   "source": [
    "# cost function calculation\n",
    "# Note: np.mean() handles the (1/n) summation part.\n",
    "\n",
    "# Term 1: y_actual * log(logistic_regression)\n",
    "term1 = Y_actual * np.log(logistic_regression)\n",
    "\n",
    "# Term 2: (1 - y_actual) * log(1 - logistic_regression)\n",
    "term2 = (1 - Y_actual) * np.log(1 - logistic_regression)\n",
    "\n",
    "# mean of the sum and negate it\n",
    "cost_J = -np.mean(term1 + term2)\n",
    "\n",
    "print(f\"The Log Loss Cost (J) is: {cost_J:.4f}\")"
   ]
  },
  {
   "cell_type": "code",
   "execution_count": 32,
   "id": "dee2aa83-e32c-4d87-b070-df0c57660756",
   "metadata": {},
   "outputs": [
    {
     "name": "stdout",
     "output_type": "stream",
     "text": [
      "Epoch 500: Cost J = 0.6431\n",
      "Epoch 1000: Cost J = 0.6410\n",
      "Epoch 1500: Cost J = 0.6389\n",
      "Epoch 2000: Cost J = 0.6368\n",
      "Epoch 2500: Cost J = 0.6347\n",
      "Epoch 3000: Cost J = 0.6326\n",
      "Epoch 3500: Cost J = 0.6306\n",
      "Epoch 4000: Cost J = 0.6286\n",
      "Epoch 4500: Cost J = 0.6265\n",
      "Epoch 5000: Cost J = 0.6245\n",
      "\n",
      "--- Training Complete ---\n",
      "Optimal Slope (m): 0.003556\n",
      "Optimal Intercept (c): -0.101730\n",
      "Final Log Loss Cost: 0.6245\n"
     ]
    }
   ],
   "source": [
    "# Now concept of gradient descent is to start with smallest value possible\n",
    "#and keep taking small steps to reduce cost function until you reach deepest bottom and cannot take any more steps which is less\n",
    "learning_rate = 0.0001  \n",
    "epochs = 5000           # Number of iterations\n",
    "\n",
    "\n",
    "# Initialize m and c\n",
    "m = 0.0\n",
    "c = 0.0\n",
    "\n",
    "# gradient descent loop\n",
    "for epoch in range(epochs):\n",
    "    \n",
    "    # calculate logistic regression\n",
    "    z = m * X + c\n",
    "    LR = 1 / (1 + np.exp(-z))\n",
    "    \n",
    "    # calculate the gradients\n",
    "    error = LR - Y_actual\n",
    "    \n",
    "    # gradient for slope (m)\n",
    "    grad_m = np.mean(error * X)\n",
    "    \n",
    "    # gradient for intercept (c)\n",
    "    grad_c = np.mean(error)\n",
    "    \n",
    "    # update parameters\n",
    "    m = m - learning_rate * grad_m\n",
    "    c = c - learning_rate * grad_c\n",
    "    \n",
    "    # monitor cost founction\n",
    "    if (epoch + 1) % 500 == 0:\n",
    "        cost_J = -np.mean(Y_actual * np.log(LR) + (1 - Y_actual) * np.log(1 - LR))\n",
    "        print(f\"Epoch {epoch + 1}: Cost J = {cost_J:.4f}\")\n",
    "\n",
    "# --- FINAL RESULTS ---\n",
    "print(\"\\n--- Training Complete ---\")\n",
    "print(f\"Optimal Slope (m): {m:.6f}\")\n",
    "print(f\"Optimal Intercept (c): {c:.6f}\")\n",
    "print(f\"Final Log Loss Cost: {cost_J:.4f}\")"
   ]
  },
  {
   "cell_type": "code",
   "execution_count": 33,
   "id": "56e5e236-24f7-4e99-b506-b62f2cf22d51",
   "metadata": {},
   "outputs": [
    {
     "name": "stdout",
     "output_type": "stream",
     "text": [
      "0     0.490570\n",
      "1     0.495903\n",
      "2     0.546440\n",
      "3     0.576200\n",
      "4     0.700082\n",
      "        ...   \n",
      "95    0.754265\n",
      "96    0.579670\n",
      "97    0.560499\n",
      "98    0.571853\n",
      "99    0.606268\n",
      "Name: days_to_expiry, Length: 100, dtype: float64\n",
      "[1 1 1 1 1]\n",
      "[1 1 1 1 1]\n",
      "[1 1 1 1 1]\n",
      "[1 1 1 1 1]\n",
      "[1 1 1 1 1]\n",
      "[0 0 1 1 1]\n",
      "[0 0 0 0 1]\n",
      "[0 0 0 0 1]\n",
      "[0 0 0 0 0]\n",
      "[0 0 0 0 0]\n",
      "highest accuracy is :0.833\n",
      "best threshold through simple math is : 0.6000000000000001\n"
     ]
    },
    {
     "data": {
      "image/png": "[encoded data removed]",
      "text/plain": [
       "<Figure size 640x480 with 1 Axes>"
      ]
     },
     "metadata": {},
     "output_type": "display_data"
    }
   ],
   "source": [
    "import pandas as pd\n",
    "import numpy as np\n",
    "#lets now generate random test data again. I should have defined function to call but since it was easy to copy I have copied will finetune the code later versions\n",
    "np.random.seed(62)\n",
    "data3 = pd.DataFrame({\n",
    "    'cert_id': range(1000),\n",
    "    'days_to_expiry': np.random.randint(0, 365, 1000),\n",
    "    'purity_percent': np.random.uniform(50, 100, 1000),\n",
    "    'vendor_score': np.random.uniform(1, 5, 1000)\n",
    "})\n",
    "\n",
    "#build a logic for only one feature initially to explore analystical method\n",
    "conditions = [\n",
    "    (data3['days_to_expiry'] < 250),  # Reject (0)\n",
    "    (data3['days_to_expiry'] >= 250)  # Approve (1)\n",
    "]\n",
    "\n",
    "#define label, lets keep it as 0 and 1 for calculations\n",
    "labels = [0, 1]\n",
    "\n",
    "#apply condition and label on data\n",
    "data3['actual_decision'] = np.select(conditions, labels)\n",
    "\n",
    "#lets first build y=mx+c and define x and y \n",
    "\n",
    "X = data2['days_to_expiry']\n",
    "y= (X*m)+c\n",
    "data2['predicted_decision']=y\n",
    "Y_actual=data2['actual_decision']\n",
    "\n",
    "#lets treat y output from linear regression-> z and try to keep in range of 0 to 1\n",
    "\n",
    "#preprocessing data\n",
    "e=2.718281828459045235360287471352\n",
    "z=y\n",
    "neg_z=-1*z\n",
    "e_pow_neg_z = e**neg_z\n",
    "one_plus_e_pow_neg_z = 1+e_pow_neg_z\n",
    "\n",
    "#as logistic regression is sigmoid function of linear regression\n",
    "logistic_regression = 1/one_plus_e_pow_neg_z\n",
    "fig, ax2 = plt.subplots()\n",
    "ax2.plot(X,logistic_regression,color='r')\n",
    "print(logistic_regression.head(100))\n",
    "\n",
    "\n",
    "#lets initialize a variable to store highest accuracy\n",
    "highest_accuracy = 0.0\n",
    "final_threshold = 0.0\n",
    "#lets try for loop with steps of 0.1 till 0.9 and print accuracies\n",
    "for i in np.arange(0.0, 1.0, 0.1):\n",
    "    conditions = [(logistic_regression < i),  # Reject (0)\n",
    "                  (logistic_regression >= i)  # Approve (1)\n",
    "                 ]\n",
    "    #define label, lets keep it as 0 and 1 for calculations\n",
    "    labels = [0, 1]\n",
    "    #apply condition and label on data\n",
    "    temp_df = np.select(conditions, labels)\n",
    "    print(temp_df[:5])\n",
    "    accuracy_found = (temp_df == Y_actual).mean()\n",
    "    if accuracy_found > highest_accuracy:\n",
    "        highest_accuracy = accuracy_found\n",
    "        final_threshold = i\n",
    "print(f\"highest accuracy is :{highest_accuracy}\")\n",
    "print(f\"best threshold through simple math is : {final_threshold}\")"
   ]
  },
  {
   "cell_type": "markdown",
   "id": "606cb286-432c-4a43-a801-0c18b7da0e62",
   "metadata": {},
   "source": [
    "**Let me experiment with actual Python packages instead of math functions and try to add more features in next version of Learning**"
   ]
  }
 ],
 "metadata": {
  "kernelspec": {
   "display_name": "Python [conda env:base] *",
   "language": "python",
   "name": "conda-base-py"
  },
  "language_info": {
   "codemirror_mode": {
    "name": "ipython",
    "version": 3
   },
   "file_extension": ".py",
   "mimetype": "text/x-python",
   "name": "python",
   "nbconvert_exporter": "python",
   "pygments_lexer": "ipython3",
   "version": "3.13.5"
  }
 },
 "nbformat": 4,
 "nbformat_minor": 5
}
